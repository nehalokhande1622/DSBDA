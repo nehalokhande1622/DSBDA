{
 "cells": [
  {
   "cell_type": "code",
   "execution_count": 79,
   "id": "5c54cd4d-ae5a-4a55-aa09-335ba197cd69",
   "metadata": {},
   "outputs": [
    {
     "name": "stderr",
     "output_type": "stream",
     "text": [
      "[nltk_data] Downloading package punkt_tab to\n",
      "[nltk_data]     C:\\Users\\LENOVO/nltk_data...\n",
      "[nltk_data]   Package punkt_tab is already up-to-date!\n",
      "[nltk_data] Downloading package stopwords to\n",
      "[nltk_data]     C:\\Users\\LENOVO/nltk_data...\n",
      "[nltk_data]   Package stopwords is already up-to-date!\n",
      "[nltk_data] Downloading package wordnet to\n",
      "[nltk_data]     C:\\Users\\LENOVO/nltk_data...\n",
      "[nltk_data]   Package wordnet is already up-to-date!\n",
      "[nltk_data] Downloading package averaged_perceptron_tagger_eng to\n",
      "[nltk_data]     C:\\Users\\LENOVO/nltk_data...\n",
      "[nltk_data]   Package averaged_perceptron_tagger_eng is already up-to-\n",
      "[nltk_data]       date!\n"
     ]
    },
    {
     "data": {
      "text/plain": [
       "True"
      ]
     },
     "execution_count": 79,
     "metadata": {},
     "output_type": "execute_result"
    }
   ],
   "source": [
    "import nltk\n",
    "nltk.download('punkt_tab') \n",
    "nltk.download('stopwords')  # For stopwords\n",
    "nltk.download('wordnet')  # For lemmatization\n",
    "nltk.download('averaged_perceptron_tagger_eng')"
   ]
  },
  {
   "cell_type": "code",
   "execution_count": 81,
   "id": "e4cb965f-8d0e-4636-89fd-7556d011fcdc",
   "metadata": {},
   "outputs": [],
   "source": [
    "text = \"Tokenization is the first step in text analytics.The process of breaking down a text paragraph into smaller chunks such as words or sentences is called Tokenization.\""
   ]
  },
  {
   "cell_type": "code",
   "execution_count": 83,
   "id": "94a8d742-fa06-4464-9d28-e5ff0fa397be",
   "metadata": {},
   "outputs": [
    {
     "name": "stdout",
     "output_type": "stream",
     "text": [
      "['Tokenization is the first step in text analytics.The process of breaking down a text paragraph into smaller chunks such as words or sentences is called Tokenization.']\n"
     ]
    }
   ],
   "source": [
    "from nltk.tokenize import sent_tokenize\n",
    "tokenized_text = sent_tokenize(text)\n",
    "print(tokenized_text)"
   ]
  },
  {
   "cell_type": "code",
   "execution_count": 85,
   "id": "d076c4a9-2154-4ed5-bb4d-b98973226589",
   "metadata": {},
   "outputs": [
    {
     "name": "stdout",
     "output_type": "stream",
     "text": [
      "['Tokenization', 'is', 'the', 'first', 'step', 'in', 'text', 'analytics.The', 'process', 'of', 'breaking', 'down', 'a', 'text', 'paragraph', 'into', 'smaller', 'chunks', 'such', 'as', 'words', 'or', 'sentences', 'is', 'called', 'Tokenization', '.']\n"
     ]
    }
   ],
   "source": [
    "from nltk.tokenize import word_tokenize\n",
    "tokenized_word = word_tokenize(text)\n",
    "print(tokenized_word)"
   ]
  },
  {
   "cell_type": "code",
   "execution_count": 87,
   "id": "f361fc84-dd31-47d0-b182-f0fa7e778fac",
   "metadata": {},
   "outputs": [
    {
     "name": "stdout",
     "output_type": "stream",
     "text": [
      "Tokenized Sentence: ['how', 'to', 'remove', 'stop', 'words', 'with', 'nltk', 'library', 'in', 'python']\n",
      "Filtered Sentence: ['remove', 'stop', 'words', 'nltk', 'library', 'python']\n"
     ]
    }
   ],
   "source": [
    "from nltk.corpus import stopwords\n",
    "import re\n",
    "\n",
    "stop_words = set(stopwords.words(\"english\"))\n",
    "text = \"How to remove stop words with NLTK library in Python?\"\n",
    "text = re.sub('[^a-zA-Z]', ' ', text)  # Remove punctuation\n",
    "tokens = word_tokenize(text.lower())\n",
    "filtered_text = [w for w in tokens if w not in stop_words]\n",
    "\n",
    "print(\"Tokenized Sentence:\", tokens)\n",
    "print(\"Filtered Sentence:\", filtered_text)"
   ]
  },
  {
   "cell_type": "code",
   "execution_count": 89,
   "id": "a7eede24-686c-4407-82db-f3c53cfd63ef",
   "metadata": {},
   "outputs": [
    {
     "name": "stdout",
     "output_type": "stream",
     "text": [
      "wait\n",
      "wait\n",
      "wait\n",
      "wait\n"
     ]
    }
   ],
   "source": [
    "from nltk.stem import PorterStemmer\n",
    "\n",
    "e_words = [\"wait\", \"waiting\", \"waited\", \"waits\"]\n",
    "ps = PorterStemmer()\n",
    "\n",
    "for w in e_words:\n",
    "    rootWord = ps.stem(w)\n",
    "    print(rootWord)"
   ]
  },
  {
   "cell_type": "code",
   "execution_count": 91,
   "id": "a4b43f27-9766-459d-af0d-36e9df8bd480",
   "metadata": {},
   "outputs": [
    {
     "name": "stdout",
     "output_type": "stream",
     "text": [
      "Lemma for studies: study\n",
      "Lemma for studying: studying\n",
      "Lemma for cries: cry\n",
      "Lemma for cry: cry\n"
     ]
    }
   ],
   "source": [
    "from nltk.stem import WordNetLemmatizer\n",
    "\n",
    "wordnet_lemmatizer = WordNetLemmatizer()\n",
    "text = \"studies studying cries cry\"\n",
    "tokenization = nltk.word_tokenize(text)\n",
    "\n",
    "for w in tokenization:\n",
    "    print(\"Lemma for {}: {}\".format(w, wordnet_lemmatizer.lemmatize(w)))"
   ]
  },
  {
   "cell_type": "code",
   "execution_count": 93,
   "id": "42e6de07-3d20-47ec-91d9-589963fd54e6",
   "metadata": {},
   "outputs": [
    {
     "name": "stdout",
     "output_type": "stream",
     "text": [
      "[('The', 'DT')]\n",
      "[('pink', 'NN')]\n",
      "[('sweater', 'NN')]\n",
      "[('fit', 'NN')]\n",
      "[('her', 'PRP$')]\n",
      "[('perfectly', 'RB')]\n"
     ]
    }
   ],
   "source": [
    "from nltk.tokenize import word_tokenize\n",
    "data = \"The pink sweater fit her perfectly\"\n",
    "words = word_tokenize(data)\n",
    "\n",
    "for word in words:\n",
    "    print(nltk.pos_tag([word]))"
   ]
  },
  {
   "cell_type": "code",
   "execution_count": 95,
   "id": "b17131d3-bebf-457b-ad07-e2fd9a9382c1",
   "metadata": {},
   "outputs": [],
   "source": [
    "import pandas as pd\n",
    "from sklearn.feature_extraction.text import TfidfVectorizer\n",
    "import math\n"
   ]
  },
  {
   "cell_type": "code",
   "execution_count": 97,
   "id": "fca3c05e-469a-45e4-9ffb-c9e964bdc03e",
   "metadata": {},
   "outputs": [],
   "source": [
    "documentA = 'Jupiter is the largest Planet'\n",
    "documentB = 'Mars is the fourth planet from the Sun'"
   ]
  },
  {
   "cell_type": "code",
   "execution_count": 99,
   "id": "dbf9252d-5944-4783-8467-e99ed1046426",
   "metadata": {},
   "outputs": [],
   "source": [
    "bagOfWordsA = documentA.split(' ')\n",
    "bagOfWordsB = documentB.split(' ')"
   ]
  },
  {
   "cell_type": "code",
   "execution_count": 101,
   "id": "6efd0fd2-03e5-4275-a634-649a1fad6175",
   "metadata": {},
   "outputs": [
    {
     "data": {
      "text/plain": [
       "['Jupiter', 'is', 'the', 'largest', 'Planet']"
      ]
     },
     "execution_count": 101,
     "metadata": {},
     "output_type": "execute_result"
    }
   ],
   "source": [
    "bagOfWordsA"
   ]
  },
  {
   "cell_type": "code",
   "execution_count": 103,
   "id": "f0400960-0f20-46d6-8759-f54b0eaa34ab",
   "metadata": {},
   "outputs": [
    {
     "data": {
      "text/plain": [
       "['Mars', 'is', 'the', 'fourth', 'planet', 'from', 'the', 'Sun']"
      ]
     },
     "execution_count": 103,
     "metadata": {},
     "output_type": "execute_result"
    }
   ],
   "source": [
    "bagOfWordsB"
   ]
  },
  {
   "cell_type": "code",
   "execution_count": 105,
   "id": "e62c5167-fa71-4003-a3da-80f8bd424941",
   "metadata": {},
   "outputs": [
    {
     "data": {
      "text/plain": [
       "{'Jupiter',\n",
       " 'Mars',\n",
       " 'Planet',\n",
       " 'Sun',\n",
       " 'fourth',\n",
       " 'from',\n",
       " 'is',\n",
       " 'largest',\n",
       " 'planet',\n",
       " 'the'}"
      ]
     },
     "execution_count": 105,
     "metadata": {},
     "output_type": "execute_result"
    }
   ],
   "source": [
    "uniqueWords = set(bagOfWordsA).union(set(bagOfWordsB))\n",
    "uniqueWords"
   ]
  },
  {
   "cell_type": "code",
   "execution_count": 107,
   "id": "973efabc-bc1e-4689-aebc-7705aac37dfc",
   "metadata": {},
   "outputs": [],
   "source": [
    "numOfWordsA = dict.fromkeys(uniqueWords, 0)\n",
    "for word in bagOfWordsA:\n",
    "    numOfWordsA[word] += 1\n",
    "\n",
    "numOfWordsB = dict.fromkeys(uniqueWords, 0)\n",
    "for word in bagOfWordsB:\n",
    "    numOfWordsB[word] += 1"
   ]
  },
  {
   "cell_type": "code",
   "execution_count": 109,
   "id": "e44372b7-4346-45a6-99e9-69a6a1be99a9",
   "metadata": {},
   "outputs": [
    {
     "data": {
      "text/plain": [
       "{'fourth': 0,\n",
       " 'largest': 1,\n",
       " 'Planet': 1,\n",
       " 'Mars': 0,\n",
       " 'Sun': 0,\n",
       " 'planet': 0,\n",
       " 'from': 0,\n",
       " 'Jupiter': 1,\n",
       " 'the': 1,\n",
       " 'is': 1}"
      ]
     },
     "execution_count": 109,
     "metadata": {},
     "output_type": "execute_result"
    }
   ],
   "source": [
    "numOfWordsA"
   ]
  },
  {
   "cell_type": "code",
   "execution_count": 111,
   "id": "319a2bbd-4e50-4c79-98c6-f1349e4fe8ec",
   "metadata": {},
   "outputs": [
    {
     "data": {
      "text/plain": [
       "{'fourth': 1,\n",
       " 'largest': 0,\n",
       " 'Planet': 0,\n",
       " 'Mars': 1,\n",
       " 'Sun': 1,\n",
       " 'planet': 1,\n",
       " 'from': 1,\n",
       " 'Jupiter': 0,\n",
       " 'the': 2,\n",
       " 'is': 1}"
      ]
     },
     "execution_count": 111,
     "metadata": {},
     "output_type": "execute_result"
    }
   ],
   "source": [
    "numOfWordsB"
   ]
  },
  {
   "cell_type": "code",
   "execution_count": 113,
   "id": "96ed9f9c-23d4-4f17-bc39-ab095f8aac1d",
   "metadata": {},
   "outputs": [],
   "source": [
    "def computeTF(wordDict, bagOfWords):\n",
    "    tfDict = {}\n",
    "    bagOfWordsCount = len(bagOfWords)\n",
    "    for word, count in wordDict.items():\n",
    "        tfDict[word] = count / float(bagOfWordsCount)\n",
    "    return tfDict\n",
    "\n",
    "tfA = computeTF(numOfWordsA, bagOfWordsA)\n",
    "tfB = computeTF(numOfWordsB, bagOfWordsB)\n",
    " "
   ]
  },
  {
   "cell_type": "code",
   "execution_count": 115,
   "id": "a83e7abd-c2a4-4a53-9e90-7f7ce24a4611",
   "metadata": {},
   "outputs": [
    {
     "data": {
      "text/plain": [
       "{'fourth': 0.0,\n",
       " 'largest': 0.2,\n",
       " 'Planet': 0.2,\n",
       " 'Mars': 0.0,\n",
       " 'Sun': 0.0,\n",
       " 'planet': 0.0,\n",
       " 'from': 0.0,\n",
       " 'Jupiter': 0.2,\n",
       " 'the': 0.2,\n",
       " 'is': 0.2}"
      ]
     },
     "execution_count": 115,
     "metadata": {},
     "output_type": "execute_result"
    }
   ],
   "source": [
    "tfA"
   ]
  },
  {
   "cell_type": "code",
   "execution_count": 117,
   "id": "c1673708-ab7e-409b-a736-a1c4ecf392c8",
   "metadata": {},
   "outputs": [
    {
     "data": {
      "text/plain": [
       "{'fourth': 0.125,\n",
       " 'largest': 0.0,\n",
       " 'Planet': 0.0,\n",
       " 'Mars': 0.125,\n",
       " 'Sun': 0.125,\n",
       " 'planet': 0.125,\n",
       " 'from': 0.125,\n",
       " 'Jupiter': 0.0,\n",
       " 'the': 0.25,\n",
       " 'is': 0.125}"
      ]
     },
     "execution_count": 117,
     "metadata": {},
     "output_type": "execute_result"
    }
   ],
   "source": [
    "tfB"
   ]
  },
  {
   "cell_type": "code",
   "execution_count": 119,
   "id": "3cd2c70c-803b-4caf-8780-8a4768d9087d",
   "metadata": {},
   "outputs": [],
   "source": [
    "def computeIDF(documents):\n",
    "    N = len(documents)\n",
    "    idfDict = dict.fromkeys(documents[0].keys(), 0)\n",
    "    for document in documents:\n",
    "        for word, val in document.items():\n",
    "            if val > 0:\n",
    "                idfDict[word] += 1\n",
    "    for word, val in idfDict.items():\n",
    "        idfDict[word] = math.log(N / float(val))\n",
    "    return idfDict\n",
    "\n",
    "idfs = computeIDF([numOfWordsA, numOfWordsB])"
   ]
  },
  {
   "cell_type": "code",
   "execution_count": 69,
   "id": "1a8f8e90-b50e-43a9-930a-1b48f4031c5c",
   "metadata": {},
   "outputs": [
    {
     "data": {
      "text/plain": [
       "{'fourth': 0.6931471805599453,\n",
       " 'largest': 0.6931471805599453,\n",
       " 'Planet': 0.6931471805599453,\n",
       " 'Mars': 0.6931471805599453,\n",
       " 'Sun': 0.6931471805599453,\n",
       " 'planet': 0.6931471805599453,\n",
       " 'from': 0.6931471805599453,\n",
       " 'Jupiter': 0.6931471805599453,\n",
       " 'the': 0.0,\n",
       " 'is': 0.0}"
      ]
     },
     "execution_count": 69,
     "metadata": {},
     "output_type": "execute_result"
    }
   ],
   "source": [
    "idfs "
   ]
  },
  {
   "cell_type": "code",
   "execution_count": 71,
   "id": "5ead91c3-9be5-459d-8d35-e9af7a8e857f",
   "metadata": {},
   "outputs": [
    {
     "name": "stdout",
     "output_type": "stream",
     "text": [
      "     fourth   largest    Planet      Mars       Sun    planet      from  \\\n",
      "0  0.000000  0.138629  0.138629  0.000000  0.000000  0.000000  0.000000   \n",
      "1  0.086643  0.000000  0.000000  0.086643  0.086643  0.086643  0.086643   \n",
      "\n",
      "    Jupiter  the   is  \n",
      "0  0.138629  0.0  0.0  \n",
      "1  0.000000  0.0  0.0  \n"
     ]
    }
   ],
   "source": [
    "def computeTFIDF(tfBagOfWords, idfs):\n",
    "    tfidf = {}\n",
    "    for word, val in tfBagOfWords.items():\n",
    "        tfidf[word] = val * idfs[word]\n",
    "    return tfidf\n",
    "\n",
    "tfidfA = computeTFIDF(tfA, idfs)\n",
    "tfidfB = computeTFIDF(tfB, idfs)\n",
    "\n",
    "# Create a DataFrame for visualization\n",
    "df = pd.DataFrame([tfidfA, tfidfB])\n",
    "print(df)"
   ]
  },
  {
   "cell_type": "code",
   "execution_count": null,
   "id": "6bc9833f-86d0-4224-b02c-93725aa51a51",
   "metadata": {},
   "outputs": [],
   "source": []
  }
 ],
 "metadata": {
  "kernelspec": {
   "display_name": "Python [conda env:base] *",
   "language": "python",
   "name": "conda-base-py"
  },
  "language_info": {
   "codemirror_mode": {
    "name": "ipython",
    "version": 3
   },
   "file_extension": ".py",
   "mimetype": "text/x-python",
   "name": "python",
   "nbconvert_exporter": "python",
   "pygments_lexer": "ipython3",
   "version": "3.12.7"
  }
 },
 "nbformat": 4,
 "nbformat_minor": 5
}
