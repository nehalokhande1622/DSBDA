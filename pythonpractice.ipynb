{
 "cells": [
  {
   "cell_type": "code",
   "execution_count": 2,
   "id": "febbcc4b-d991-44bf-be51-64c0bf799c6a",
   "metadata": {},
   "outputs": [
    {
     "name": "stdout",
     "output_type": "stream",
     "text": [
      "False\n"
     ]
    }
   ],
   "source": [
    "import calendar\n",
    "month = calendar.isleap(2022)\n",
    "\n",
    "print(month)\n"
   ]
  },
  {
   "cell_type": "code",
   "execution_count": 3,
   "id": "a0d9205e-e126-4785-a9ad-a97998540094",
   "metadata": {},
   "outputs": [
    {
     "name": "stdout",
     "output_type": "stream",
     "text": [
      "    January 2025\n",
      "Mo Tu We Th Fr Sa Su\n",
      "       1  2  3  4  5\n",
      " 6  7  8  9 10 11 12\n",
      "13 14 15 16 17 18 19\n",
      "20 21 22 23 24 25 26\n",
      "27 28 29 30 31\n",
      "\n"
     ]
    }
   ],
   "source": [
    "import calendar\n",
    "month = calendar.month(2025,1)\n",
    "print(month)"
   ]
  },
  {
   "cell_type": "code",
   "execution_count": 5,
   "id": "4674fad1-65aa-463c-abcd-0f62b9a3628b",
   "metadata": {},
   "outputs": [
    {
     "name": "stdout",
     "output_type": "stream",
     "text": [
      "[77, 33, 4, 3, 2]\n"
     ]
    }
   ],
   "source": [
    "list1 = [2,3,77,4,33]\n",
    "list1.sort(reverse=True)\n",
    "print(list1)"
   ]
  },
  {
   "cell_type": "code",
   "execution_count": 11,
   "id": "70397aec-c01e-412a-b8cb-a7bdd406c57e",
   "metadata": {},
   "outputs": [
    {
     "name": "stdout",
     "output_type": "stream",
     "text": [
      "The name neha appears in the list2  1 times.\n"
     ]
    }
   ],
   "source": [
    "from collections import Counter\n",
    "list2 = [ \"ashwini\" ,\"neha\",\"ashwini\",\"ASHWINI\",\"pooja\"]\n",
    "count_neha = Counter(list2).get(\"neha\")\n",
    "print(f'The name neha appears in the list2  ' f'{count_neha} times.')"
   ]
  },
  {
   "cell_type": "code",
   "execution_count": 12,
   "id": "aa3ed60e-63cf-4147-8cfd-e9a29be2b247",
   "metadata": {},
   "outputs": [
    {
     "name": "stdout",
     "output_type": "stream",
     "text": [
      "The index of the largest number is 5\n"
     ]
    }
   ],
   "source": [
    "x = [12,45,68,89,53,99,95]\n",
    "max_num = max(enumerate(x,start = 0),key = lambda x: x[1])\n",
    "print('The index of the largest number is',max_num[0])\n"
   ]
  },
  {
   "cell_type": "code",
   "execution_count": null,
   "id": "52a036c8-6f27-4535-8cd2-43a8ee3f6c47",
   "metadata": {},
   "outputs": [],
   "source": []
  }
 ],
 "metadata": {
  "kernelspec": {
   "display_name": "Python 3 (ipykernel)",
   "language": "python",
   "name": "python3"
  },
  "language_info": {
   "codemirror_mode": {
    "name": "ipython",
    "version": 3
   },
   "file_extension": ".py",
   "mimetype": "text/x-python",
   "name": "python",
   "nbconvert_exporter": "python",
   "pygments_lexer": "ipython3",
   "version": "3.11.7"
  }
 },
 "nbformat": 4,
 "nbformat_minor": 5
}
